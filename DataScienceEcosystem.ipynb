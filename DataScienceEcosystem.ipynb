{
  "nbformat": 4,
  "nbformat_minor": 0,
  "metadata": {
    "colab": {
      "provenance": []
    },
    "kernelspec": {
      "name": "python3",
      "display_name": "Python 3"
    },
    "language_info": {
      "name": "python"
    }
  },
  "cells": [
    {
      "cell_type": "markdown",
      "source": [
        "# Data Science Ecosystem"
      ],
      "metadata": {
        "id": "ceiZmBespBEz"
      }
    },
    {
      "cell_type": "markdown",
      "source": [
        "# In this notebook, Data Science Tools and Ecosystem are summarized.\n"
      ],
      "metadata": {
        "id": "ErpcjPPyphdj"
      }
    },
    {
      "cell_type": "markdown",
      "source": [
        "Some of the popular languages that Data Scientists use are:\n",
        "1. Python\n",
        "2. R\n",
        "3. SQL\n"
      ],
      "metadata": {
        "id": "yz6A5fN4pqmZ"
      }
    },
    {
      "cell_type": "markdown",
      "source": [
        "Some of the commonly used libraries used by Data Scientists include:\n",
        "1. NumPy\n",
        "2. Pandas\n",
        "3. Scikit-learn\n"
      ],
      "metadata": {
        "id": "HB7uC0I0qPE-"
      }
    },
    {
      "cell_type": "markdown",
      "source": [
        "| Data Science Tools |\n",
        "|--------------------|\n",
        "| Jupyter Notebook   |\n",
        "| RStudio            |\n",
        "| Apache Zeppelin    |\n"
      ],
      "metadata": {
        "id": "GxPf1SFtqY6H"
      }
    },
    {
      "cell_type": "markdown",
      "source": [
        "### Below are a few examples of evaluating arithmetic expressions in Python.\n"
      ],
      "metadata": {
        "id": "lsmhpTNaqnQ-"
      }
    },
    {
      "cell_type": "code",
      "execution_count": 1,
      "metadata": {
        "colab": {
          "base_uri": "https://localhost:8080/"
        },
        "id": "SJEfT0a7ok1h",
        "outputId": "97095e3b-b6ee-4e84-ed41-79c6c4245874"
      },
      "outputs": [
        {
          "output_type": "execute_result",
          "data": {
            "text/plain": [
              "17"
            ]
          },
          "metadata": {},
          "execution_count": 1
        }
      ],
      "source": [
        "# This is a simple arithmetic expression to multiply then add integers\n",
        "(3 * 4) + 5"
      ]
    },
    {
      "cell_type": "code",
      "source": [
        "# This will convert 200 minutes to hours by dividing by 60\n",
        "200 / 60"
      ],
      "metadata": {
        "colab": {
          "base_uri": "https://localhost:8080/"
        },
        "id": "Tl-kgSciq78B",
        "outputId": "3ebad465-2c39-4a02-e4e1-93ee01c6644f"
      },
      "execution_count": 2,
      "outputs": [
        {
          "output_type": "execute_result",
          "data": {
            "text/plain": [
              "3.3333333333333335"
            ]
          },
          "metadata": {},
          "execution_count": 2
        }
      ]
    },
    {
      "cell_type": "markdown",
      "source": [
        "**Objectives:**\n",
        "- List popular languages for Data Science\n",
        "- List commonly used libraries for Data Science\n",
        "- Demonstrate examples of arithmetic operations\n",
        "- Highlight important data science tools\n"
      ],
      "metadata": {
        "id": "vbUSwObtrMgI"
      }
    },
    {
      "cell_type": "markdown",
      "source": [
        "## Author\n",
        "John Emmanuel M. Quintal"
      ],
      "metadata": {
        "id": "SHg7doEOrXTM"
      }
    }
  ]
}